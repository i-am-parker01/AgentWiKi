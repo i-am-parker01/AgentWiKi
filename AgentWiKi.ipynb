{
  "nbformat": 4,
  "nbformat_minor": 0,
  "metadata": {
    "colab": {
      "provenance": [],
      "gpuType": "T4"
    },
    "kernelspec": {
      "name": "python3",
      "display_name": "Python 3"
    },
    "language_info": {
      "name": "python"
    },
    "accelerator": "GPU"
  },
  "cells": [
    {
      "cell_type": "code",
      "execution_count": 2,
      "metadata": {
        "colab": {
          "base_uri": "https://localhost:8080/"
        },
        "id": "oKbq-scl5bTv",
        "outputId": "2dd9a857-1c3a-4ed1-ca89-8dfe25700126"
      },
      "outputs": [
        {
          "output_type": "stream",
          "name": "stdout",
          "text": [
            "Collecting langchain-groq\n",
            "  Downloading langchain_groq-0.3.8-py3-none-any.whl.metadata (2.6 kB)\n",
            "Requirement already satisfied: langchain in /usr/local/lib/python3.12/dist-packages (0.3.27)\n",
            "Requirement already satisfied: faiss-cpu in /usr/local/lib/python3.12/dist-packages (1.12.0)\n",
            "Requirement already satisfied: tiktoken in /usr/local/lib/python3.12/dist-packages (0.11.0)\n",
            "Requirement already satisfied: wikipedia in /usr/local/lib/python3.12/dist-packages (1.4.0)\n",
            "Requirement already satisfied: langchain-core<1.0.0,>=0.3.75 in /usr/local/lib/python3.12/dist-packages (from langchain-groq) (0.3.76)\n",
            "Collecting groq<1,>=0.30.0 (from langchain-groq)\n",
            "  Downloading groq-0.32.0-py3-none-any.whl.metadata (16 kB)\n",
            "Requirement already satisfied: langchain-text-splitters<1.0.0,>=0.3.9 in /usr/local/lib/python3.12/dist-packages (from langchain) (0.3.11)\n",
            "Requirement already satisfied: langsmith>=0.1.17 in /usr/local/lib/python3.12/dist-packages (from langchain) (0.4.28)\n",
            "Requirement already satisfied: pydantic<3.0.0,>=2.7.4 in /usr/local/lib/python3.12/dist-packages (from langchain) (2.11.9)\n",
            "Requirement already satisfied: SQLAlchemy<3,>=1.4 in /usr/local/lib/python3.12/dist-packages (from langchain) (2.0.43)\n",
            "Requirement already satisfied: requests<3,>=2 in /usr/local/lib/python3.12/dist-packages (from langchain) (2.32.5)\n",
            "Requirement already satisfied: PyYAML>=5.3 in /usr/local/lib/python3.12/dist-packages (from langchain) (6.0.2)\n",
            "Requirement already satisfied: numpy<3.0,>=1.25.0 in /usr/local/lib/python3.12/dist-packages (from faiss-cpu) (2.0.2)\n",
            "Requirement already satisfied: packaging in /usr/local/lib/python3.12/dist-packages (from faiss-cpu) (25.0)\n",
            "Requirement already satisfied: regex>=2022.1.18 in /usr/local/lib/python3.12/dist-packages (from tiktoken) (2024.11.6)\n",
            "Requirement already satisfied: beautifulsoup4 in /usr/local/lib/python3.12/dist-packages (from wikipedia) (4.13.5)\n",
            "Requirement already satisfied: anyio<5,>=3.5.0 in /usr/local/lib/python3.12/dist-packages (from groq<1,>=0.30.0->langchain-groq) (4.10.0)\n",
            "Requirement already satisfied: distro<2,>=1.7.0 in /usr/local/lib/python3.12/dist-packages (from groq<1,>=0.30.0->langchain-groq) (1.9.0)\n",
            "Requirement already satisfied: httpx<1,>=0.23.0 in /usr/local/lib/python3.12/dist-packages (from groq<1,>=0.30.0->langchain-groq) (0.28.1)\n",
            "Requirement already satisfied: sniffio in /usr/local/lib/python3.12/dist-packages (from groq<1,>=0.30.0->langchain-groq) (1.3.1)\n",
            "Requirement already satisfied: typing-extensions<5,>=4.10 in /usr/local/lib/python3.12/dist-packages (from groq<1,>=0.30.0->langchain-groq) (4.15.0)\n",
            "Requirement already satisfied: tenacity!=8.4.0,<10.0.0,>=8.1.0 in /usr/local/lib/python3.12/dist-packages (from langchain-core<1.0.0,>=0.3.75->langchain-groq) (8.5.0)\n",
            "Requirement already satisfied: jsonpatch<2.0,>=1.33 in /usr/local/lib/python3.12/dist-packages (from langchain-core<1.0.0,>=0.3.75->langchain-groq) (1.33)\n",
            "Requirement already satisfied: orjson>=3.9.14 in /usr/local/lib/python3.12/dist-packages (from langsmith>=0.1.17->langchain) (3.11.3)\n",
            "Requirement already satisfied: requests-toolbelt>=1.0.0 in /usr/local/lib/python3.12/dist-packages (from langsmith>=0.1.17->langchain) (1.0.0)\n",
            "Requirement already satisfied: zstandard>=0.23.0 in /usr/local/lib/python3.12/dist-packages (from langsmith>=0.1.17->langchain) (0.25.0)\n",
            "Requirement already satisfied: annotated-types>=0.6.0 in /usr/local/lib/python3.12/dist-packages (from pydantic<3.0.0,>=2.7.4->langchain) (0.7.0)\n",
            "Requirement already satisfied: pydantic-core==2.33.2 in /usr/local/lib/python3.12/dist-packages (from pydantic<3.0.0,>=2.7.4->langchain) (2.33.2)\n",
            "Requirement already satisfied: typing-inspection>=0.4.0 in /usr/local/lib/python3.12/dist-packages (from pydantic<3.0.0,>=2.7.4->langchain) (0.4.1)\n",
            "Requirement already satisfied: charset_normalizer<4,>=2 in /usr/local/lib/python3.12/dist-packages (from requests<3,>=2->langchain) (3.4.3)\n",
            "Requirement already satisfied: idna<4,>=2.5 in /usr/local/lib/python3.12/dist-packages (from requests<3,>=2->langchain) (3.10)\n",
            "Requirement already satisfied: urllib3<3,>=1.21.1 in /usr/local/lib/python3.12/dist-packages (from requests<3,>=2->langchain) (2.5.0)\n",
            "Requirement already satisfied: certifi>=2017.4.17 in /usr/local/lib/python3.12/dist-packages (from requests<3,>=2->langchain) (2025.8.3)\n",
            "Requirement already satisfied: greenlet>=1 in /usr/local/lib/python3.12/dist-packages (from SQLAlchemy<3,>=1.4->langchain) (3.2.4)\n",
            "Requirement already satisfied: soupsieve>1.2 in /usr/local/lib/python3.12/dist-packages (from beautifulsoup4->wikipedia) (2.8)\n",
            "Requirement already satisfied: httpcore==1.* in /usr/local/lib/python3.12/dist-packages (from httpx<1,>=0.23.0->groq<1,>=0.30.0->langchain-groq) (1.0.9)\n",
            "Requirement already satisfied: h11>=0.16 in /usr/local/lib/python3.12/dist-packages (from httpcore==1.*->httpx<1,>=0.23.0->groq<1,>=0.30.0->langchain-groq) (0.16.0)\n",
            "Requirement already satisfied: jsonpointer>=1.9 in /usr/local/lib/python3.12/dist-packages (from jsonpatch<2.0,>=1.33->langchain-core<1.0.0,>=0.3.75->langchain-groq) (3.0.0)\n",
            "Downloading langchain_groq-0.3.8-py3-none-any.whl (16 kB)\n",
            "Downloading groq-0.32.0-py3-none-any.whl (135 kB)\n",
            "\u001b[2K   \u001b[90m━━━━━━━━━━━━━━━━━━━━━━━━━━━━━━━━━━━━━━━━\u001b[0m \u001b[32m135.4/135.4 kB\u001b[0m \u001b[31m6.3 MB/s\u001b[0m eta \u001b[36m0:00:00\u001b[0m\n",
            "\u001b[?25hInstalling collected packages: groq, langchain-groq\n",
            "Successfully installed groq-0.32.0 langchain-groq-0.3.8\n"
          ]
        }
      ],
      "source": [
        "!pip install --upgrade langchain-groq langchain faiss-cpu tiktoken wikipedia\n"
      ]
    },
    {
      "cell_type": "code",
      "source": [
        "import os\n",
        "os.environ[\"GROQ_API_KEY\"] = \"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\"\n",
        "from langchain_groq.chat_models import ChatGroq\n",
        "\n",
        "# Initialize the Groq client\n",
        "llm = ChatGroq(\n",
        "    model=\"gemma2-9b-it\",\n",
        "    temperature=0.7,\n",
        "    max_tokens=1024\n",
        ")\n"
      ],
      "metadata": {
        "id": "t68YCHo35jSo"
      },
      "execution_count": 23,
      "outputs": []
    },
    {
      "cell_type": "code",
      "source": [
        "# import os\n",
        "# os.environ[\"GROQ_API_KEY\"] = \"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\"\n"
      ],
      "metadata": {
        "id": "6hfKqrvt5jVR"
      },
      "execution_count": 14,
      "outputs": []
    },
    {
      "cell_type": "code",
      "source": [
        "response = llm.predict(\"Hello, Groq!\")\n",
        "print(response)\n"
      ],
      "metadata": {
        "colab": {
          "base_uri": "https://localhost:8080/"
        },
        "id": "B2nXAW048tH6",
        "outputId": "73e6d696-cd0b-47e6-b8e5-c995eea27ede"
      },
      "execution_count": 24,
      "outputs": [
        {
          "output_type": "stream",
          "name": "stdout",
          "text": [
            "Hello! 👋  \n",
            "\n",
            "How can I help you today? 😊\n",
            "\n"
          ]
        }
      ]
    },
    {
      "cell_type": "code",
      "source": [
        "from langchain.tools import Tool\n",
        "import math\n",
        "from langchain_community.utilities import WikipediaAPIWrapper\n",
        "from langchain_community.tools import WikipediaQueryRun\n",
        "\n",
        "# Calculator Tool\n",
        "def calculator_tool(expr: str) -> str:\n",
        "    try:\n",
        "        return str(eval(expr, {\"__builtins__\": {}}, {\"math\": math}))\n",
        "    except Exception as e:\n",
        "        return f\"Error: {str(e)}\"\n",
        "\n",
        "calc = Tool(\n",
        "    name=\"Calculator\",\n",
        "    func=calculator_tool,\n",
        "    description=\"Use this to calculate math expressions like '25*4' or 'math.sqrt(16)'\"\n",
        ")\n",
        "\n",
        "# Wikipedia Tool\n",
        "wiki = WikipediaQueryRun(api_wrapper=WikipediaAPIWrapper())\n"
      ],
      "metadata": {
        "id": "k8o2CBU65jXn"
      },
      "execution_count": 25,
      "outputs": []
    },
    {
      "cell_type": "code",
      "source": [
        "from langchain.memory import ConversationBufferMemory\n",
        "\n",
        "memory = ConversationBufferMemory(memory_key=\"chat_history\", return_messages=True)\n"
      ],
      "metadata": {
        "id": "gIax-e7T5jaE"
      },
      "execution_count": 26,
      "outputs": []
    },
    {
      "cell_type": "code",
      "source": [
        "from langchain.agents import initialize_agent, AgentType\n",
        "\n",
        "agent = initialize_agent(\n",
        "    tools=[calc, wiki],\n",
        "    llm=llm,  # your ChatGroq instance\n",
        "    agent_type=AgentType.CHAT_CONVERSATIONAL_REACT_DESCRIPTION,\n",
        "    memory=memory,\n",
        "    verbose=True\n",
        ")\n"
      ],
      "metadata": {
        "id": "BMZl7WkY5jcB"
      },
      "execution_count": 27,
      "outputs": []
    },
    {
      "cell_type": "code",
      "source": [
        "# Simple test queries\n",
        "print(agent.run(\"Hi, who won the FIFA World Cup in 2018?\"))\n"
      ],
      "metadata": {
        "colab": {
          "base_uri": "https://localhost:8080/"
        },
        "id": "7z0rkl7J5jfZ",
        "outputId": "dd5906a5-e7c9-477e-e74e-e3722bb5fa7e"
      },
      "execution_count": 33,
      "outputs": [
        {
          "output_type": "stream",
          "name": "stdout",
          "text": [
            "\n",
            "\n",
            "\u001b[1m> Entering new AgentExecutor chain...\u001b[0m\n",
            "\u001b[32;1m\u001b[1;3mThought: I need to look up the winner of the 2018 FIFA World Cup.\n",
            "Action: wikipedia\n",
            "Action Input: FIFA World Cup 2018 winner\u001b[0m\n",
            "Observation: \u001b[33;1m\u001b[1;3mPage: 2018 FIFA World Cup\n",
            "Summary: The 2018 FIFA World Cup was the 21st FIFA World Cup, the quadrennial world championship for national football teams organized by FIFA. It took place in Russia from 14 June to 15 July 2018, after the country was awarded the hosting rights in late 2010. It was the eleventh time the championships had been held in Europe and the first time they were held in Eastern Europe, also featuring one or two venues, depending on definition, located across the boundary with Asia. At an estimated cost of over $14.2 billion, it was the most expensive World Cup ever held until it was surpassed by the 2022 World Cup in Qatar.\n",
            "The tournament phase involved 32 teams, of which 31 came through qualifying competitions, while the host nation Russia qualified automatically. Of the 32, 20 had also appeared in the 2014 event, while Iceland and Panama each made their debut at the World Cup. 64 matches were played in 12 venues across 11 cities. Germany, the defending champions, were eliminated in the group stage for the first time since 1938. Host nation  Russia was eliminated in the quarter-finals. In the final, France played Croatia on 15 July at Luzhniki Stadium in Moscow. France won the match 4–2, claiming their second World Cup and becoming the fourth consecutive title won by a European team, after Italy in 2006, Spain in 2010, and Germany in 2014 - a winning streak for the teams representing the same continent that extended the record broken four years earlier.\n",
            "Croatian player Luka Modrić was voted the tournament's best player, winning the Golden Ball. England's Harry Kane won the Golden Boot as he scored the most goals during the tournament with six. Belgium's Thibaut Courtois won the Golden Glove, awarded to the goalkeeper with the best performance. It has been estimated that more than 3 million people attended games during the tournament.\n",
            "\n",
            "Page: 2018 FIFA World Cup qualification\n",
            "Summary: The 2018 FIFA World Cup qualification process was a series of tournaments organised by the six FIFA confederations to decide 31 of the 32 teams which would play in the 2018 FIFA World Cup, with Russia qualifying automatically as hosts. All 210 remaining FIFA member associations were eligible to enter the qualifying process, and for the first time in World Cup history, all eligible national teams registered for the preliminary competition, but Zimbabwe and Indonesia were disqualified before playing their first matches. Bhutan, South Sudan, Gibraltar and Kosovo made their FIFA World Cup qualification debuts, while Myanmar participated after successfully appealing against a ban from the competition, although the team was obliged to play its home matches outside the country.\n",
            "While the main qualifying draw took place at the Konstantinovsky Palace in Strelna, Saint Petersburg, on 25 July 2015, qualification matches were played before that. The first, between Timor-Leste and Mongolia, began in Dili on 12 March 2015 as part of the AFC's qualification, with East Timorese player Chiquito do Carmo scoring the first goal in qualification. Matches were also played in CONCACAF prior to the main draw.\n",
            "\n",
            "Page: List of FIFA World Cup finals\n",
            "Summary: The FIFA World Cup is an international association football competition contested by the senior men's national teams of the Fédération Internationale de Football Association (FIFA), the sport's global governing body. The championship has been awarded every four years since 1930, except in 1942 and 1946, when it was not held because of World War II.\n",
            "The World Cup final is the last match of the competition, played by the only two teams remaining in contention, and the result determines which country is declared the world champion. It is a one-off match decided in regulation time. In case of a draw, extra time is used. If scores are then still level, a penalty shoot-out determines the winner, under the rules in force since 1986; prior to that, finals still tied after extra time would have been replayed, t\u001b[0m\n",
            "Thought:\u001b[32;1m\u001b[1;3mThought: I found the answer within the \"2018 FIFA World Cup\" Wikipedia page.\n",
            "Final Answer: France \n",
            "\n",
            "\n",
            "\u001b[0m\n",
            "\n",
            "\u001b[1m> Finished chain.\u001b[0m\n",
            "France\n"
          ]
        }
      ]
    },
    {
      "cell_type": "code",
      "source": [
        "print(agent.run('What is 256*88+5'))"
      ],
      "metadata": {
        "colab": {
          "base_uri": "https://localhost:8080/"
        },
        "id": "W_kmm3c75jh3",
        "outputId": "2f884c57-fb87-472a-812a-21fbfa12bd7c"
      },
      "execution_count": 34,
      "outputs": [
        {
          "output_type": "stream",
          "name": "stdout",
          "text": [
            "\n",
            "\n",
            "\u001b[1m> Entering new AgentExecutor chain...\u001b[0m\n",
            "\u001b[32;1m\u001b[1;3mThought: I can use the calculator to solve this.\n",
            "Action: Calculator\n",
            "Action Input: 256*88+5\u001b[0m\n",
            "Observation: \u001b[36;1m\u001b[1;3m22533\u001b[0m\n",
            "Thought:\u001b[32;1m\u001b[1;3mThought: I now know the final answer\n",
            "Final Answer: 22533  \n",
            "\u001b[0m\n",
            "\n",
            "\u001b[1m> Finished chain.\u001b[0m\n",
            "22533\n"
          ]
        }
      ]
    },
    {
      "cell_type": "code",
      "source": [
        "print(agent.run('What is bmw motorad ?'))"
      ],
      "metadata": {
        "colab": {
          "base_uri": "https://localhost:8080/"
        },
        "id": "Oz_kXmY95jlR",
        "outputId": "24b951e1-ad87-43e0-9d08-e061c503dc5d"
      },
      "execution_count": 36,
      "outputs": [
        {
          "output_type": "stream",
          "name": "stdout",
          "text": [
            "\n",
            "\n",
            "\u001b[1m> Entering new AgentExecutor chain...\u001b[0m\n",
            "\u001b[32;1m\u001b[1;3mThought: I need to look up BMW Motorrad on Wikipedia to learn what it is. \n",
            "Action: wikipedia\n",
            "Action Input: BMW Motorrad\u001b[0m\n",
            "Observation: \u001b[33;1m\u001b[1;3mPage: BMW Motorrad\n",
            "Summary: BMW Motorrad is the motorcycle brand and division of German automotive manufacturer, BMW. It has produced motorcycles since 1923, and achieved record sales for the fifth year in succession in 2015. With a total of 136,963 vehicles sold in 2015, BMW registered a growth of 10.9%  in sales in comparison with 2014.\n",
            "In May 2011, the 2,000,000th motorcycle produced by BMW Motorrad was an R1200GS.\n",
            "\n",
            "\n",
            "\n",
            "Page: BMW F900R\n",
            "Summary: The BMW F900R is a naked motorcycle introduced by BMW Motorrad in 2019. The F-series 850/900 engine also includes the enduro-inspired F850GS, and the F900XR, a Sport touring design.\n",
            "It is based on the BMW F850GS series project, with which it shares technical solutions and mechanical parts, also adopted by the F900 XR.\n",
            "\n",
            "Page: BMW R1200GS\n",
            "Summary: The BMW R1200GS and R1200GS Adventure (\"R1200GSA\") are motorcycles manufactured in Berlin, Germany by BMW Motorrad, part of the BMW group. It is one of the BMW GS family of dual sport motorcycles. Both motorcycles have a 1,170 cc (71 cu in), two-cylinder boxer engine with four valves per cylinder. The Adventure has a large-capacity fuel tank and long travel suspension. As of 2012, BMW's R1200GS bikes are their top-selling models.\u001b[0m\n",
            "Thought:\u001b[32;1m\u001b[1;3mThought: I now know that BMW Motorrad is the motorcycle division of BMW.\n",
            "Final Answer: BMW Motorrad is the motorcycle brand and division of German automotive manufacturer, BMW.  It has produced motorcycles since 1923. \n",
            "\u001b[0m\n",
            "\n",
            "\u001b[1m> Finished chain.\u001b[0m\n",
            "BMW Motorrad is the motorcycle brand and division of German automotive manufacturer, BMW.  It has produced motorcycles since 1923.\n"
          ]
        }
      ]
    },
    {
      "cell_type": "code",
      "source": [],
      "metadata": {
        "id": "B7Mvletn5jnz"
      },
      "execution_count": null,
      "outputs": []
    },
    {
      "cell_type": "code",
      "source": [],
      "metadata": {
        "id": "wM2xApvb5jqe"
      },
      "execution_count": null,
      "outputs": []
    },
    {
      "cell_type": "code",
      "source": [],
      "metadata": {
        "id": "C9Uxx_655jtE"
      },
      "execution_count": null,
      "outputs": []
    },
    {
      "cell_type": "code",
      "source": [],
      "metadata": {
        "id": "zP21xxAH5jwd"
      },
      "execution_count": null,
      "outputs": []
    }
  ]
}